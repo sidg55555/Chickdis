{
 "cells": [
  {
   "cell_type": "code",
   "execution_count": 1,
   "id": "7913fd52",
   "metadata": {},
   "outputs": [],
   "source": [
    "import os\n",
    "os.chdir(\"../\")"
   ]
  },
  {
   "cell_type": "code",
   "execution_count": 3,
   "id": "5be09f89",
   "metadata": {},
   "outputs": [
    {
     "data": {
      "text/plain": [
       "'/Users/sidharthgoel/Desktop/deep_learning_disease_detection/Chickdis'"
      ]
     },
     "execution_count": 3,
     "metadata": {},
     "output_type": "execute_result"
    }
   ],
   "source": [
    "%pwd"
   ]
  },
  {
   "cell_type": "code",
   "execution_count": 5,
   "id": "7092cfff",
   "metadata": {},
   "outputs": [],
   "source": [
    "from Chickdis.utils.common import logger\n",
    "from Chickdis.utils.common import create_directories,read_yaml\n",
    "from Chickdis.constants import *"
   ]
  },
  {
   "cell_type": "code",
   "execution_count": 8,
   "id": "245f9425",
   "metadata": {},
   "outputs": [],
   "source": [
    "from dataclasses import dataclass\n",
    "from pathlib import Path"
   ]
  },
  {
   "cell_type": "code",
   "execution_count": 10,
   "id": "7c37d511",
   "metadata": {},
   "outputs": [],
   "source": [
    "@dataclass \n",
    "class Callbacks_config:\n",
    "  root_dir: Path\n",
    "  tensorboard_root_log_dir: Path\n",
    "  checkpoint_model_filepath: Path"
   ]
  },
  {
   "cell_type": "code",
   "execution_count": 33,
   "id": "292ecc33",
   "metadata": {},
   "outputs": [],
   "source": [
    "class ConfigurationManager:\n",
    "    def __init__(self,config_path=CONFIG_FILE_PATH,params_path=PARAMS_FILE_PATH):\n",
    "        self.config=read_yaml(config_path)\n",
    "        self.params=read_yaml(params_path)\n",
    "        create_directories([self.config.artifacts_root])\n",
    "\n",
    "    def get_callback_config(self):\n",
    "        config=self.config.prepare_callbacks\n",
    "        create_directories([Path(config.checkpoint_model_filepath),Path(config.tensorboard_root_log_dir)])\n",
    "        prepare_callback_config=Callbacks_config(\n",
    "            root_dir=Path(config.root_dir),\n",
    "            tensorboard_root_log_dir=Path(config.tensorboard_root_log_dir),\n",
    "            checkpoint_model_filepath= Path(config.checkpoint_model_filepath)\n",
    "        )\n",
    "        return prepare_callback_config"
   ]
  },
  {
   "cell_type": "code",
   "execution_count": 13,
   "id": "3b24c98a",
   "metadata": {},
   "outputs": [],
   "source": [
    "import urllib.request as request\n",
    "import tensorflow as tf\n",
    "import time"
   ]
  },
  {
   "cell_type": "code",
   "execution_count": 34,
   "id": "db3667b6",
   "metadata": {},
   "outputs": [],
   "source": [
    "class PrepareCallbacks:\n",
    "    def __init__(self,config:Callbacks_config):\n",
    "        self.config=config\n",
    "    \n",
    "    @property\n",
    "    def _create_tb_callbacks(self):\n",
    "        timestamp=time.strftime(\"%Y-%m-%d-%H-%M-%S\")\n",
    "        tb_running_log_dir=os.path.join(\n",
    "            self.config.tensorboard_root_log_dir,f\"tb-logs-at-{timestamp}\",\n",
    "        )\n",
    "        return tf.keras.callbacks.TensorBoard(log_dir=tb_running_log_dir)\n",
    "    @property\n",
    "    def _create_ckpt_callbacks(self):\n",
    "\n",
    "        return tf.keras.callbacks.ModelCheckpoint(filepath=str(self.config.checkpoint_model_filepath),save_best_only=  True)\n",
    "    \n",
    "    def get_tb_ckpt_callbacks(self):\n",
    "        return[\n",
    "            self._create_tb_callbacks,self._create_ckpt_callbacks\n",
    "        ]"
   ]
  },
  {
   "cell_type": "code",
   "execution_count": 35,
   "id": "f1862377",
   "metadata": {},
   "outputs": [
    {
     "name": "stdout",
     "output_type": "stream",
     "text": [
      "[2025-09-08 15:14:20,691: INFO: common]: Directory created at: artifacts]\n",
      "[2025-09-08 15:14:20,693: INFO: common]: Directory created at: artifacts/prepare_callbacks/checkpoint_model_filepath]\n"
     ]
    },
    {
     "name": "stdout",
     "output_type": "stream",
     "text": [
      "[2025-09-08 15:14:20,695: INFO: common]: Directory created at: artifacts/prepare_callbacks/tensorboard_root_log_dir]\n"
     ]
    }
   ],
   "source": [
    "try:\n",
    "    configuration_manager=ConfigurationManager()\n",
    "    PrepareCallbacks_config=configuration_manager.get_callback_config()\n",
    "    PrepareCallbacksobj=PrepareCallbacks(PrepareCallbacks_config)\n",
    "    callback_list=PrepareCallbacksobj.get_tb_ckpt_callbacks()\n",
    "except Exception as e:\n",
    "    raise e"
   ]
  }
 ],
 "metadata": {
  "kernelspec": {
   "display_name": "chicken",
   "language": "python",
   "name": "python3"
  },
  "language_info": {
   "codemirror_mode": {
    "name": "ipython",
    "version": 3
   },
   "file_extension": ".py",
   "mimetype": "text/x-python",
   "name": "python",
   "nbconvert_exporter": "python",
   "pygments_lexer": "ipython3",
   "version": "3.8.20"
  }
 },
 "nbformat": 4,
 "nbformat_minor": 5
}
