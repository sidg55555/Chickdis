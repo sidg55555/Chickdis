{
 "cells": [
  {
   "cell_type": "code",
   "execution_count": 2,
   "id": "9a98e339",
   "metadata": {},
   "outputs": [
    {
     "data": {
      "text/plain": [
       "'/Users/sidharthgoel/Desktop/deep_learning_disease_detection/Chickdis/research'"
      ]
     },
     "execution_count": 2,
     "metadata": {},
     "output_type": "execute_result"
    }
   ],
   "source": [
    "%pwd"
   ]
  },
  {
   "cell_type": "code",
   "execution_count": 3,
   "id": "da67db8a",
   "metadata": {},
   "outputs": [],
   "source": [
    "import os\n",
    "import urllib.request as request\n",
    "import zipfile\n",
    "from Chickdis import logger\n",
    "from Chickdis.utils.common import get_size"
   ]
  },
  {
   "cell_type": "code",
   "execution_count": 4,
   "id": "d4f53d65",
   "metadata": {},
   "outputs": [],
   "source": [
    "os.chdir(\"/Users/sidharthgoel/Desktop/deep_learning_disease_detection/Chickdis\")"
   ]
  },
  {
   "cell_type": "code",
   "execution_count": 6,
   "id": "72877180",
   "metadata": {},
   "outputs": [],
   "source": [
    "from dataclasses import dataclass\n",
    "from pathlib import Path\n",
    "\n",
    "@dataclass(frozen=True)\n",
    "class DataIngestionConfig:\n",
    "    root_dir: Path\n",
    "    source_URL: str\n",
    "    local_data_file: Path\n",
    "    unzip_dir: Path"
   ]
  },
  {
   "cell_type": "code",
   "execution_count": 8,
   "id": "a2c2b2c7",
   "metadata": {},
   "outputs": [],
   "source": [
    "from Chickdis.constants import *\n",
    "from Chickdis.utils.common import read_yaml, create_directories"
   ]
  },
  {
   "cell_type": "code",
   "execution_count": 10,
   "id": "c3841f08",
   "metadata": {},
   "outputs": [],
   "source": [
    "class ConfigurationManager:\n",
    "    def __init__(self, \n",
    "                 config_filepath=CONFIG_FILE_PATH,\n",
    "                 params_filepath=PARAMS_FILE_PATH):\n",
    "        self.config = read_yaml(config_filepath)\n",
    "        self.params = read_yaml(params_filepath)\n",
    "        create_directories([self.config.artifacts_root])\n",
    "    \n",
    "    def get_data_ingestion_config(self) -> DataIngestionConfig:\n",
    "        config = self.config.data_ingestion\n",
    "        create_directories([config.root_dir])\n",
    "        data_ingestion_config = DataIngestionConfig(\n",
    "            root_dir=Path(config.root_dir),\n",
    "            source_URL=config.source_URL,\n",
    "            local_data_file=config.local_data_file,\n",
    "            unzip_dir=Path(config.unzip_dir)\n",
    "        )\n",
    "        return data_ingestion_config"
   ]
  },
  {
   "cell_type": "code",
   "execution_count": 16,
   "id": "2e779abf",
   "metadata": {},
   "outputs": [],
   "source": [
    "class DataIngestion:\n",
    "    def __init__(self, config: DataIngestionConfig):\n",
    "        self.config = config\n",
    "\n",
    "    def download_data(self):\n",
    "        if not os.path.exists(self.config.root_dir):\n",
    "            os.makedirs(self.config.root_dir, exist_ok=True)\n",
    "            logger.info(f\"Created directory: {self.config.root_dir}\")\n",
    "\n",
    "        logger.info(f\"Downloading data from {self.config.source_URL} to {self.config.local_data_file}\")\n",
    "        request.urlretrieve(self.config.source_URL, self.config.local_data_file)\n",
    "        logger.info(f\"Downloaded file size: {get_size(Path(self.config.local_data_file))}\")\n",
    "\n",
    "    def extract_zip_file(self):\n",
    "        logger.info(f\"Extracting zip file: {self.config.local_data_file} to {self.config.unzip_dir}\")\n",
    "        with zipfile.ZipFile(self.config.local_data_file, 'r') as zip_ref:\n",
    "            zip_ref.extractall(self.config.unzip_dir)\n",
    "        logger.info(\"Extraction completed.\")\n",
    "\n",
    "    def initiate_data_ingestion(self):\n",
    "        self.download_data()\n",
    "        self.extract_zip_file()\n",
    "        \n",
    "    "
   ]
  },
  {
   "cell_type": "code",
   "execution_count": 17,
   "id": "9ded6088",
   "metadata": {},
   "outputs": [
    {
     "name": "stdout",
     "output_type": "stream",
     "text": [
      "[2025-09-07 13:52:57,385: INFO: common]: Directory created at: artifacts]\n",
      "[2025-09-07 13:52:57,387: INFO: common]: Directory created at: artifacts/data_ingestion]\n",
      "[2025-09-07 13:52:57,388: INFO: 3664643610]: Downloading data from https://github.com/sidg55555/data_repo/raw/refs/heads/main/Chicken-fecal-images.zip to artifacts/data_ingestion/data.zip]\n",
      "[2025-09-07 13:52:59,423: INFO: 3664643610]: Downloaded file size: 11344.64 KB]\n",
      "[2025-09-07 13:52:59,425: INFO: 3664643610]: Extracting zip file: artifacts/data_ingestion/data.zip to artifacts/data_ingestion]\n",
      "[2025-09-07 13:52:59,536: INFO: 3664643610]: Extraction completed.]\n"
     ]
    }
   ],
   "source": [
    "config=ConfigurationManager()\n",
    "data_ingestion_config=config.get_data_ingestion_config()\n",
    "data_ingestion=DataIngestion(config=data_ingestion_config)\n",
    "data_ingestion.initiate_data_ingestion()"
   ]
  }
 ],
 "metadata": {
  "kernelspec": {
   "display_name": "chicken",
   "language": "python",
   "name": "python3"
  },
  "language_info": {
   "codemirror_mode": {
    "name": "ipython",
    "version": 3
   },
   "file_extension": ".py",
   "mimetype": "text/x-python",
   "name": "python",
   "nbconvert_exporter": "python",
   "pygments_lexer": "ipython3",
   "version": "3.8.20"
  }
 },
 "nbformat": 4,
 "nbformat_minor": 5
}
